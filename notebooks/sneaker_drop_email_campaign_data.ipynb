{
  "nbformat": 4,
  "nbformat_minor": 0,
  "metadata": {
    "colab": {
      "provenance": []
    },
    "kernelspec": {
      "name": "python3",
      "display_name": "Python 3"
    },
    "language_info": {
      "name": "python"
    }
  },
  "cells": [
    {
      "cell_type": "code",
      "execution_count": 17,
      "metadata": {
        "colab": {
          "base_uri": "https://localhost:8080/"
        },
        "id": "dLgs84zzAkMe",
        "outputId": "603564ab-fbda-45b3-a157-c6412a0e55fe"
      },
      "outputs": [
        {
          "output_type": "stream",
          "name": "stdout",
          "text": [
            "Simulated dataset shape: (20000, 4)\n",
            "   user_id group  opened  clicked\n",
            "0        1     B       1        0\n",
            "1        2     A       0        0\n",
            "2        3     A       0        0\n",
            "3        4     A       0        0\n",
            "4        5     B       0        0\n"
          ]
        }
      ],
      "source": [
        "import numpy as np\n",
        "import pandas as pd\n",
        "\n",
        "# -----------------------------\n",
        "# 1. Experiment Configuration (Pre-Determined)\n",
        "# -----------------------------\n",
        "\n",
        "np.random.seed(42)\n",
        "n_per_group = 10_000        # 10,000 recipients per variant\n",
        "\n",
        "# ubject‑line variants A is baseline version (control), B is variant\n",
        "# 25 % open rate – Urgency line\n",
        "# 27 % open rate – Hype/emoji line\n",
        "# 12 % click‑through given open (Group A)\n",
        "# 10 % click‑through given open (Group B)\n",
        "\n",
        "open_rate_A        = 0.25\n",
        "open_rate_B        = 0.27\n",
        "click_given_open_A = 0.12\n",
        "click_given_open_B = 0.10\n",
        "\n",
        "# -----------------------------\n",
        "# 2. Simulate Opens & Clicks\n",
        "# -----------------------------\n",
        "\n",
        "# generate two groups, A and B, 10,000 each\n",
        "# generate 20,000 user ids\n",
        "\n",
        "groups   = np.repeat(['A', 'B'], n_per_group)\n",
        "user_ids = np.arange(1, 2 * n_per_group + 1)\n",
        "\n",
        "# how many opened A from A, B from B\n",
        "\n",
        "opened_A = np.random.binomial(1, open_rate_A, n_per_group)\n",
        "opened_B = np.random.binomial(1, open_rate_B, n_per_group)\n",
        "opened   = np.concatenate([opened_A, opened_B])\n",
        "\n",
        "# how many click on the link from those that opened their respective email\n",
        "\n",
        "clicked_A = opened_A * np.random.binomial(1, click_given_open_A, n_per_group)\n",
        "clicked_B = opened_B * np.random.binomial(1, click_given_open_B, n_per_group)\n",
        "clicked   = np.concatenate([clicked_A, clicked_B])\n",
        "\n",
        "# -----------------------------\n",
        "# 3. Assemble DataFrame\n",
        "# -----------------------------\n",
        "\n",
        "df = pd.DataFrame({\n",
        "    'user_id': user_ids,\n",
        "    'group'  : groups,\n",
        "    'opened' : opened,\n",
        "    'clicked': clicked })\n",
        "\n",
        "# randomize rows but keep user id organized\n",
        "\n",
        "df_shuffled = df.sample(frac=1, random_state = 42).reset_index(drop = True)\n",
        "df_shuffled['user_id'] = np.arange(1, len(df_shuffled) + 1)\n",
        "\n",
        "# save to csv\n",
        "\n",
        "df_shuffled.to_csv('sneaker_drop_email_ab_data.csv', index = False)\n",
        "print(\"Simulated dataset shape:\", df.shape)\n",
        "print(df_shuffled.head())"
      ]
    }
  ]
}